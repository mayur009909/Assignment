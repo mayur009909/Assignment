{
  "nbformat": 4,
  "nbformat_minor": 0,
  "metadata": {
    "colab": {
      "provenance": [],
      "toc_visible": true
    },
    "kernelspec": {
      "name": "python3",
      "display_name": "Python 3"
    },
    "language_info": {
      "name": "python"
    }
  },
  "cells": [
    {
      "cell_type": "markdown",
      "source": [
        "#List\n"
      ],
      "metadata": {
        "id": "B0glj0zh6olu"
      }
    },
    {
      "cell_type": "markdown",
      "source": [
        "here we add different data type in single variable\n"
      ],
      "metadata": {
        "id": "EcTUFjtx6rZP"
      }
    },
    {
      "cell_type": "code",
      "source": [
        "i=[1,22,'mayur',True,5+7j,9,3433.33]"
      ],
      "metadata": {
        "id": "vNPuZZpN6yQD"
      },
      "execution_count": 1,
      "outputs": []
    },
    {
      "cell_type": "code",
      "execution_count": 2,
      "metadata": {
        "colab": {
          "base_uri": "https://localhost:8080/"
        },
        "id": "7MR3-DM86hYD",
        "outputId": "a4a232cd-1697-4833-dab1-b7869c4e9bfb"
      },
      "outputs": [
        {
          "output_type": "execute_result",
          "data": {
            "text/plain": [
              "list"
            ]
          },
          "metadata": {},
          "execution_count": 2
        }
      ],
      "source": [
        "type(i)"
      ]
    },
    {
      "cell_type": "markdown",
      "source": [
        "can apply slicing and indexing"
      ],
      "metadata": {
        "id": "-YqkNEMh8hN5"
      }
    },
    {
      "cell_type": "code",
      "source": [
        "print(i[3])\n",
        "i[0]"
      ],
      "metadata": {
        "colab": {
          "base_uri": "https://localhost:8080/"
        },
        "id": "lsw1Q2zL8487",
        "outputId": "f7b9515e-b00c-4554-9f11-b40066d5bc19"
      },
      "execution_count": 3,
      "outputs": [
        {
          "output_type": "stream",
          "name": "stdout",
          "text": [
            "True\n"
          ]
        },
        {
          "output_type": "execute_result",
          "data": {
            "text/plain": [
              "1"
            ]
          },
          "metadata": {},
          "execution_count": 3
        }
      ]
    },
    {
      "cell_type": "code",
      "source": [
        "i"
      ],
      "metadata": {
        "colab": {
          "base_uri": "https://localhost:8080/"
        },
        "id": "hyCKZKdZ88Om",
        "outputId": "bf829498-bfd8-498c-dd7d-c76e4b1b2baf"
      },
      "execution_count": 4,
      "outputs": [
        {
          "output_type": "execute_result",
          "data": {
            "text/plain": [
              "[1, 22, 'mayur', True, (5+7j), 9, 3433.33]"
            ]
          },
          "metadata": {},
          "execution_count": 4
        }
      ]
    },
    {
      "cell_type": "markdown",
      "source": [
        "slicing [sequence[start:stop:step]]"
      ],
      "metadata": {
        "id": "N0aHghXd9nvQ"
      }
    },
    {
      "cell_type": "code",
      "source": [
        "i[0:3:2]"
      ],
      "metadata": {
        "colab": {
          "base_uri": "https://localhost:8080/"
        },
        "id": "BkbIPzEi9VL-",
        "outputId": "4539ac78-63cf-49ec-a28d-6025551d37aa"
      },
      "execution_count": 5,
      "outputs": [
        {
          "output_type": "execute_result",
          "data": {
            "text/plain": [
              "[1, 'mayur']"
            ]
          },
          "metadata": {},
          "execution_count": 5
        }
      ]
    },
    {
      "cell_type": "code",
      "source": [
        "i[-2]"
      ],
      "metadata": {
        "colab": {
          "base_uri": "https://localhost:8080/"
        },
        "id": "8Nj65xqm9qg9",
        "outputId": "c21e28eb-0bd4-4f09-f9fd-cc2e2ee986da"
      },
      "execution_count": 6,
      "outputs": [
        {
          "output_type": "execute_result",
          "data": {
            "text/plain": [
              "9"
            ]
          },
          "metadata": {},
          "execution_count": 6
        }
      ]
    },
    {
      "cell_type": "markdown",
      "source": [
        "reverse the list"
      ],
      "metadata": {
        "id": "RfnMXCHK-FRI"
      }
    },
    {
      "cell_type": "code",
      "source": [
        "i[::-1]"
      ],
      "metadata": {
        "colab": {
          "base_uri": "https://localhost:8080/"
        },
        "id": "M1VPLb_09_xo",
        "outputId": "23d298f0-79bb-458d-8be6-c41e4a7df028"
      },
      "execution_count": 7,
      "outputs": [
        {
          "output_type": "execute_result",
          "data": {
            "text/plain": [
              "[3433.33, 9, (5+7j), True, 'mayur', 22, 1]"
            ]
          },
          "metadata": {},
          "execution_count": 7
        }
      ]
    },
    {
      "cell_type": "markdown",
      "source": [
        "even index values"
      ],
      "metadata": {
        "id": "mOSpJS1T-d3z"
      }
    },
    {
      "cell_type": "code",
      "source": [
        "i[::2]"
      ],
      "metadata": {
        "colab": {
          "base_uri": "https://localhost:8080/"
        },
        "id": "wlsiKLIo-Jqr",
        "outputId": "90bd71dd-da53-4668-9e35-63e5f5728530"
      },
      "execution_count": 8,
      "outputs": [
        {
          "output_type": "execute_result",
          "data": {
            "text/plain": [
              "[1, 'mayur', (5+7j), 3433.33]"
            ]
          },
          "metadata": {},
          "execution_count": 8
        }
      ]
    },
    {
      "cell_type": "markdown",
      "source": [
        "now we want to concatenate list with string"
      ],
      "metadata": {
        "id": "QXevvx1W-06p"
      }
    },
    {
      "cell_type": "code",
      "source": [
        "s='pwskills'"
      ],
      "metadata": {
        "id": "IfutanDA-iNL"
      },
      "execution_count": 9,
      "outputs": []
    },
    {
      "cell_type": "code",
      "source": [
        "i+s"
      ],
      "metadata": {
        "colab": {
          "base_uri": "https://localhost:8080/",
          "height": 147
        },
        "id": "xKYG52Wy-7ZJ",
        "outputId": "439426ee-1cb9-4b77-87b6-49c1e6393b92"
      },
      "execution_count": 12,
      "outputs": [
        {
          "output_type": "error",
          "ename": "TypeError",
          "evalue": "can only concatenate list (not \"str\") to list",
          "traceback": [
            "\u001b[0;31m---------------------------------------------------------------------------\u001b[0m",
            "\u001b[0;31mTypeError\u001b[0m                                 Traceback (most recent call last)",
            "\u001b[0;32m<ipython-input-12-a6e3360130dc>\u001b[0m in \u001b[0;36m<cell line: 0>\u001b[0;34m()\u001b[0m\n\u001b[0;32m----> 1\u001b[0;31m \u001b[0mi\u001b[0m\u001b[0;34m+\u001b[0m\u001b[0ms\u001b[0m\u001b[0;34m\u001b[0m\u001b[0;34m\u001b[0m\u001b[0m\n\u001b[0m",
            "\u001b[0;31mTypeError\u001b[0m: can only concatenate list (not \"str\") to list"
          ]
        }
      ]
    },
    {
      "cell_type": "markdown",
      "source": [
        "it shows error now we convert string into list"
      ],
      "metadata": {
        "id": "k3Cy6bKx--MK"
      }
    },
    {
      "cell_type": "code",
      "source": [
        "list(s)"
      ],
      "metadata": {
        "colab": {
          "base_uri": "https://localhost:8080/"
        },
        "id": "uQPxoXDM-8uE",
        "outputId": "753da035-2833-48a2-968b-26a5283641ee"
      },
      "execution_count": 13,
      "outputs": [
        {
          "output_type": "execute_result",
          "data": {
            "text/plain": [
              "['p', 'w', 's', 'k', 'i', 'l', 'l', 's']"
            ]
          },
          "metadata": {},
          "execution_count": 13
        }
      ]
    },
    {
      "cell_type": "code",
      "source": [
        "i+list(s)     # it works but words in string is split"
      ],
      "metadata": {
        "colab": {
          "base_uri": "https://localhost:8080/"
        },
        "id": "PKNFhbht_GJp",
        "outputId": "2079800c-3dfa-418f-b271-055262bd9a0d"
      },
      "execution_count": 14,
      "outputs": [
        {
          "output_type": "execute_result",
          "data": {
            "text/plain": [
              "[1,\n",
              " 22,\n",
              " 'mayur',\n",
              " True,\n",
              " (5+7j),\n",
              " 9,\n",
              " 3433.33,\n",
              " 'p',\n",
              " 'w',\n",
              " 's',\n",
              " 'k',\n",
              " 'i',\n",
              " 'l',\n",
              " 'l',\n",
              " 's']"
            ]
          },
          "metadata": {},
          "execution_count": 14
        }
      ]
    },
    {
      "cell_type": "markdown",
      "source": [
        "we cant add string(any differ data type by concatenate method )so we use appent and extent method"
      ],
      "metadata": {
        "id": "GcNW1HnZ_jF4"
      }
    },
    {
      "cell_type": "code",
      "source": [
        "i"
      ],
      "metadata": {
        "colab": {
          "base_uri": "https://localhost:8080/"
        },
        "id": "mKQ23BDD_IU0",
        "outputId": "8ff8b061-db58-42d8-8699-dab8a6bbc55e"
      },
      "execution_count": 15,
      "outputs": [
        {
          "output_type": "execute_result",
          "data": {
            "text/plain": [
              "[1, 22, 'mayur', True, (5+7j), 9, 3433.33]"
            ]
          },
          "metadata": {},
          "execution_count": 15
        }
      ]
    },
    {
      "cell_type": "markdown",
      "source": [
        "now we want to ma from mayur"
      ],
      "metadata": {
        "id": "tFzAFBLF_6Kp"
      }
    },
    {
      "cell_type": "code",
      "source": [
        "i[2]"
      ],
      "metadata": {
        "colab": {
          "base_uri": "https://localhost:8080/",
          "height": 36
        },
        "id": "YXLNWQpi_5I_",
        "outputId": "f44ffc7f-f001-4922-ea7e-fc8c52ea215f"
      },
      "execution_count": 16,
      "outputs": [
        {
          "output_type": "execute_result",
          "data": {
            "text/plain": [
              "'mayur'"
            ],
            "application/vnd.google.colaboratory.intrinsic+json": {
              "type": "string"
            }
          },
          "metadata": {},
          "execution_count": 16
        }
      ]
    },
    {
      "cell_type": "code",
      "source": [
        "type(i[2])"
      ],
      "metadata": {
        "colab": {
          "base_uri": "https://localhost:8080/"
        },
        "id": "3MOgWy_VADDm",
        "outputId": "cc1b1910-7466-4486-cafc-c21ff440baff"
      },
      "execution_count": 17,
      "outputs": [
        {
          "output_type": "execute_result",
          "data": {
            "text/plain": [
              "str"
            ]
          },
          "metadata": {},
          "execution_count": 17
        }
      ]
    },
    {
      "cell_type": "code",
      "source": [
        "i[2][0:2]"
      ],
      "metadata": {
        "colab": {
          "base_uri": "https://localhost:8080/",
          "height": 36
        },
        "id": "t0kyf8wJAF4G",
        "outputId": "4d8e4b25-9703-4f0d-99da-d4602e620d2a"
      },
      "execution_count": 18,
      "outputs": [
        {
          "output_type": "execute_result",
          "data": {
            "text/plain": [
              "'ma'"
            ],
            "application/vnd.google.colaboratory.intrinsic+json": {
              "type": "string"
            }
          },
          "metadata": {},
          "execution_count": 18
        }
      ]
    },
    {
      "cell_type": "code",
      "source": [
        "i[3][0:2]   # we can't do this with true because its not string if we wnt then first we convert it into string"
      ],
      "metadata": {
        "colab": {
          "base_uri": "https://localhost:8080/",
          "height": 165
        },
        "id": "8iwXpVegAI0e",
        "outputId": "c082eacc-78d9-4e60-fed7-93c968c1fbfa"
      },
      "execution_count": 19,
      "outputs": [
        {
          "output_type": "error",
          "ename": "TypeError",
          "evalue": "'bool' object is not subscriptable",
          "traceback": [
            "\u001b[0;31m---------------------------------------------------------------------------\u001b[0m",
            "\u001b[0;31mTypeError\u001b[0m                                 Traceback (most recent call last)",
            "\u001b[0;32m<ipython-input-19-bd44764d42e1>\u001b[0m in \u001b[0;36m<cell line: 0>\u001b[0;34m()\u001b[0m\n\u001b[0;32m----> 1\u001b[0;31m \u001b[0mi\u001b[0m\u001b[0;34m[\u001b[0m\u001b[0;36m3\u001b[0m\u001b[0;34m]\u001b[0m\u001b[0;34m[\u001b[0m\u001b[0;36m0\u001b[0m\u001b[0;34m:\u001b[0m\u001b[0;36m2\u001b[0m\u001b[0;34m]\u001b[0m   \u001b[0;31m# we can't do this with true because its not string if we wnt then first we convert it into string\u001b[0m\u001b[0;34m\u001b[0m\u001b[0;34m\u001b[0m\u001b[0m\n\u001b[0m",
            "\u001b[0;31mTypeError\u001b[0m: 'bool' object is not subscriptable"
          ]
        }
      ]
    },
    {
      "cell_type": "code",
      "source": [
        "str(i[3])[0:2]"
      ],
      "metadata": {
        "colab": {
          "base_uri": "https://localhost:8080/",
          "height": 36
        },
        "id": "lqv-1LdIAdVu",
        "outputId": "7d5f61a6-5f78-44c9-e41b-cfdddd85086e"
      },
      "execution_count": 20,
      "outputs": [
        {
          "output_type": "execute_result",
          "data": {
            "text/plain": [
              "'Tr'"
            ],
            "application/vnd.google.colaboratory.intrinsic+json": {
              "type": "string"
            }
          },
          "metadata": {},
          "execution_count": 20
        }
      ]
    },
    {
      "cell_type": "markdown",
      "source": [
        "#Dictionary"
      ],
      "metadata": {
        "id": "CygrbhzI5MWL"
      }
    },
    {
      "cell_type": "code",
      "source": [
        "d={}"
      ],
      "metadata": {
        "id": "Za5rTWxaAtVp"
      },
      "execution_count": 21,
      "outputs": []
    },
    {
      "cell_type": "code",
      "source": [
        "type(d)"
      ],
      "metadata": {
        "colab": {
          "base_uri": "https://localhost:8080/"
        },
        "id": "cRcqMoEA5QPE",
        "outputId": "dcd4f77b-30bf-445f-943d-8aeaee72c43f"
      },
      "execution_count": 22,
      "outputs": [
        {
          "output_type": "execute_result",
          "data": {
            "text/plain": [
              "dict"
            ]
          },
          "metadata": {},
          "execution_count": 22
        }
      ]
    },
    {
      "cell_type": "code",
      "source": [
        "d1={'key':'value'}"
      ],
      "metadata": {
        "id": "Y13DMzGm5R-a"
      },
      "execution_count": 23,
      "outputs": []
    },
    {
      "cell_type": "code",
      "source": [
        "d1"
      ],
      "metadata": {
        "colab": {
          "base_uri": "https://localhost:8080/"
        },
        "id": "HthIcMsA5Z4q",
        "outputId": "ef94c9f7-a882-4553-c42c-a19ae94cbddf"
      },
      "execution_count": 24,
      "outputs": [
        {
          "output_type": "execute_result",
          "data": {
            "text/plain": [
              "{'key': 'value'}"
            ]
          },
          "metadata": {},
          "execution_count": 24
        }
      ]
    },
    {
      "cell_type": "code",
      "source": [
        "d2={'name':'mayur', 'email':'123@gmail.com'}"
      ],
      "metadata": {
        "id": "SbvLXTf75a81"
      },
      "execution_count": 25,
      "outputs": []
    },
    {
      "cell_type": "code",
      "source": [
        "d2"
      ],
      "metadata": {
        "colab": {
          "base_uri": "https://localhost:8080/"
        },
        "id": "Q6jbBuv65nw2",
        "outputId": "a7288254-8b9f-4dbd-ccec-1c77bdc5857a"
      },
      "execution_count": 26,
      "outputs": [
        {
          "output_type": "execute_result",
          "data": {
            "text/plain": [
              "{'name': 'mayur', 'email': '123@gmail.com'}"
            ]
          },
          "metadata": {},
          "execution_count": 26
        }
      ]
    },
    {
      "cell_type": "code",
      "source": [
        "d3={234:'mauy','_':'kumar',True:'2223'}"
      ],
      "metadata": {
        "id": "NGi-NWp-5o6U"
      },
      "execution_count": 27,
      "outputs": []
    },
    {
      "cell_type": "code",
      "source": [
        "d3"
      ],
      "metadata": {
        "colab": {
          "base_uri": "https://localhost:8080/"
        },
        "id": "9obuF4p152mR",
        "outputId": "6005fe87-6af3-4c64-bfbf-a4a70462f947"
      },
      "execution_count": 28,
      "outputs": [
        {
          "output_type": "execute_result",
          "data": {
            "text/plain": [
              "{234: 'mauy', '_': 'kumar', True: '2223'}"
            ]
          },
          "metadata": {},
          "execution_count": 28
        }
      ]
    },
    {
      "cell_type": "markdown",
      "source": [
        "now we wnt to print ma from mauy"
      ],
      "metadata": {
        "id": "qz3ypGCG6Eaj"
      }
    },
    {
      "cell_type": "markdown",
      "source": [
        "here we not use indexing"
      ],
      "metadata": {
        "id": "jWniFsP16NCK"
      }
    },
    {
      "cell_type": "code",
      "source": [
        "d3[234]"
      ],
      "metadata": {
        "colab": {
          "base_uri": "https://localhost:8080/",
          "height": 36
        },
        "id": "TKHNjWSr53PH",
        "outputId": "11859515-f4d9-45c1-a20a-9c2f1887a476"
      },
      "execution_count": 29,
      "outputs": [
        {
          "output_type": "execute_result",
          "data": {
            "text/plain": [
              "'mauy'"
            ],
            "application/vnd.google.colaboratory.intrinsic+json": {
              "type": "string"
            }
          },
          "metadata": {},
          "execution_count": 29
        }
      ]
    },
    {
      "cell_type": "code",
      "source": [
        "d3[1]  #because 1 means true"
      ],
      "metadata": {
        "colab": {
          "base_uri": "https://localhost:8080/",
          "height": 36
        },
        "id": "_MKIQOJz6TRy",
        "outputId": "b0352c1d-60da-4461-a2ce-9216894546cf"
      },
      "execution_count": 30,
      "outputs": [
        {
          "output_type": "execute_result",
          "data": {
            "text/plain": [
              "'2223'"
            ],
            "application/vnd.google.colaboratory.intrinsic+json": {
              "type": "string"
            }
          },
          "metadata": {},
          "execution_count": 30
        }
      ]
    },
    {
      "cell_type": "code",
      "source": [
        "d4={'name':'teena','mail':'teena@gmail.com','name':'mayur'}"
      ],
      "metadata": {
        "id": "XHrF_0yN6XiV"
      },
      "execution_count": 31,
      "outputs": []
    },
    {
      "cell_type": "code",
      "source": [
        "d4[\"name\"]    # key should be unique if key is same then value is modified"
      ],
      "metadata": {
        "colab": {
          "base_uri": "https://localhost:8080/",
          "height": 36
        },
        "id": "PxekWsxd7NgB",
        "outputId": "8f5c0a5f-bf9e-4262-df74-44c11fe284b5"
      },
      "execution_count": 32,
      "outputs": [
        {
          "output_type": "execute_result",
          "data": {
            "text/plain": [
              "'mayur'"
            ],
            "application/vnd.google.colaboratory.intrinsic+json": {
              "type": "string"
            }
          },
          "metadata": {},
          "execution_count": 32
        }
      ]
    },
    {
      "cell_type": "code",
      "source": [
        "d5={\"name\":'mayur','company':'pwskills','course':['web dev','data science','java']}"
      ],
      "metadata": {
        "id": "cm4HnNea7P_n"
      },
      "execution_count": 33,
      "outputs": []
    },
    {
      "cell_type": "code",
      "source": [
        "d5"
      ],
      "metadata": {
        "colab": {
          "base_uri": "https://localhost:8080/"
        },
        "id": "TrBXMeRN72V8",
        "outputId": "28431a9c-6a57-4092-afae-0c5bda8f7f64"
      },
      "execution_count": 34,
      "outputs": [
        {
          "output_type": "execute_result",
          "data": {
            "text/plain": [
              "{'name': 'mayur',\n",
              " 'company': 'pwskills',\n",
              " 'course': ['web dev', 'data science', 'java']}"
            ]
          },
          "metadata": {},
          "execution_count": 34
        }
      ]
    },
    {
      "cell_type": "code",
      "source": [
        "d5['course'][2]"
      ],
      "metadata": {
        "colab": {
          "base_uri": "https://localhost:8080/",
          "height": 36
        },
        "id": "OwlDWyoz73CN",
        "outputId": "0cf06627-d423-4646-ee6f-a1283a601144"
      },
      "execution_count": 35,
      "outputs": [
        {
          "output_type": "execute_result",
          "data": {
            "text/plain": [
              "'java'"
            ],
            "application/vnd.google.colaboratory.intrinsic+json": {
              "type": "string"
            }
          },
          "metadata": {},
          "execution_count": 35
        }
      ]
    },
    {
      "cell_type": "code",
      "source": [
        "d6={'num':[22,33,12,34,321],'assignment':(1,2,3,4,5),'launch_date':{28,12,14},'class_time':{'web_dev':8,'data science':8,'java':7}}"
      ],
      "metadata": {
        "id": "2F5JT6Xi8WXq"
      },
      "execution_count": 36,
      "outputs": []
    },
    {
      "cell_type": "code",
      "source": [
        "d6"
      ],
      "metadata": {
        "colab": {
          "base_uri": "https://localhost:8080/"
        },
        "id": "XB4AJAc19SIm",
        "outputId": "fed0878e-3fff-4270-f05a-ff7125d44a44"
      },
      "execution_count": 37,
      "outputs": [
        {
          "output_type": "execute_result",
          "data": {
            "text/plain": [
              "{'num': [22, 33, 12, 34, 321],\n",
              " 'assignment': (1, 2, 3, 4, 5),\n",
              " 'launch_date': {12, 14, 28},\n",
              " 'class_time': {'web_dev': 8, 'data science': 8, 'java': 7}}"
            ]
          },
          "metadata": {},
          "execution_count": 37
        }
      ]
    },
    {
      "cell_type": "code",
      "source": [
        "d6['class_time']"
      ],
      "metadata": {
        "colab": {
          "base_uri": "https://localhost:8080/"
        },
        "id": "B6LcMEOG-4Bs",
        "outputId": "3655f015-07a5-4a6d-a504-12273a1ed421"
      },
      "execution_count": 38,
      "outputs": [
        {
          "output_type": "execute_result",
          "data": {
            "text/plain": [
              "{'web_dev': 8, 'data science': 8, 'java': 7}"
            ]
          },
          "metadata": {},
          "execution_count": 38
        }
      ]
    },
    {
      "cell_type": "code",
      "source": [
        "d6['class_time']['java']"
      ],
      "metadata": {
        "colab": {
          "base_uri": "https://localhost:8080/"
        },
        "id": "oRd3lRuN_PvM",
        "outputId": "e50130be-b72a-4a2f-b474-59cf3a78493e"
      },
      "execution_count": 39,
      "outputs": [
        {
          "output_type": "execute_result",
          "data": {
            "text/plain": [
              "7"
            ]
          },
          "metadata": {},
          "execution_count": 39
        }
      ]
    },
    {
      "cell_type": "code",
      "source": [
        "d6['mentor']=['mr sir','pankaj','tumharachutkesejarahai','tarun']   # ase ham add kr skte hai or agar same key pehle se ho to modify ho jyega"
      ],
      "metadata": {
        "id": "zTgxoLwx_W5x"
      },
      "execution_count": 40,
      "outputs": []
    },
    {
      "cell_type": "code",
      "source": [
        "d6"
      ],
      "metadata": {
        "colab": {
          "base_uri": "https://localhost:8080/"
        },
        "id": "ectetQI0AE2U",
        "outputId": "f275addf-36d7-4e6c-8f89-6ad2affa2d60"
      },
      "execution_count": 41,
      "outputs": [
        {
          "output_type": "execute_result",
          "data": {
            "text/plain": [
              "{'num': [22, 33, 12, 34, 321],\n",
              " 'assignment': (1, 2, 3, 4, 5),\n",
              " 'launch_date': {12, 14, 28},\n",
              " 'class_time': {'web_dev': 8, 'data science': 8, 'java': 7},\n",
              " 'mentor': ['mr sir', 'pankaj', 'tumharachutkesejarahai', 'tarun']}"
            ]
          },
          "metadata": {},
          "execution_count": 41
        }
      ]
    },
    {
      "cell_type": "code",
      "source": [
        "del d6['num']"
      ],
      "metadata": {
        "id": "kGj7ULNxAFp5"
      },
      "execution_count": 42,
      "outputs": []
    },
    {
      "cell_type": "code",
      "source": [
        "d6"
      ],
      "metadata": {
        "colab": {
          "base_uri": "https://localhost:8080/"
        },
        "id": "mllewY4ar0VA",
        "outputId": "1e2f4fd8-b717-4d17-8d74-d5d2d54e0252"
      },
      "execution_count": 43,
      "outputs": [
        {
          "output_type": "execute_result",
          "data": {
            "text/plain": [
              "{'assignment': (1, 2, 3, 4, 5),\n",
              " 'launch_date': {12, 14, 28},\n",
              " 'class_time': {'web_dev': 8, 'data science': 8, 'java': 7},\n",
              " 'mentor': ['mr sir', 'pankaj', 'tumharachutkesejarahai', 'tarun']}"
            ]
          },
          "metadata": {},
          "execution_count": 43
        }
      ]
    },
    {
      "cell_type": "code",
      "source": [
        "d6.keys()"
      ],
      "metadata": {
        "colab": {
          "base_uri": "https://localhost:8080/"
        },
        "id": "HnXBzhBRr1a0",
        "outputId": "ed5572ad-7203-48fb-d65c-f8c36fd90a4e"
      },
      "execution_count": 44,
      "outputs": [
        {
          "output_type": "execute_result",
          "data": {
            "text/plain": [
              "dict_keys(['assignment', 'launch_date', 'class_time', 'mentor'])"
            ]
          },
          "metadata": {},
          "execution_count": 44
        }
      ]
    },
    {
      "cell_type": "code",
      "source": [
        "list(d6.keys())"
      ],
      "metadata": {
        "colab": {
          "base_uri": "https://localhost:8080/"
        },
        "id": "FTiOc9yBsQYj",
        "outputId": "b9c43ad1-2aca-4f1c-d312-ecc76b8d6735"
      },
      "execution_count": 45,
      "outputs": [
        {
          "output_type": "execute_result",
          "data": {
            "text/plain": [
              "['assignment', 'launch_date', 'class_time', 'mentor']"
            ]
          },
          "metadata": {},
          "execution_count": 45
        }
      ]
    },
    {
      "cell_type": "code",
      "source": [
        "d6.values()"
      ],
      "metadata": {
        "colab": {
          "base_uri": "https://localhost:8080/"
        },
        "id": "9Rt99P3dsb3_",
        "outputId": "4738ad6a-71f1-4459-f914-f80b69513988"
      },
      "execution_count": 46,
      "outputs": [
        {
          "output_type": "execute_result",
          "data": {
            "text/plain": [
              "dict_values([(1, 2, 3, 4, 5), {28, 12, 14}, {'web_dev': 8, 'data science': 8, 'java': 7}, ['mr sir', 'pankaj', 'tumharachutkesejarahai', 'tarun']])"
            ]
          },
          "metadata": {},
          "execution_count": 46
        }
      ]
    },
    {
      "cell_type": "code",
      "source": [
        "d6.items()"
      ],
      "metadata": {
        "colab": {
          "base_uri": "https://localhost:8080/"
        },
        "id": "soGc_WZFsfwo",
        "outputId": "8f15217e-ff25-4070-e9b4-5321c0f147f9"
      },
      "execution_count": 47,
      "outputs": [
        {
          "output_type": "execute_result",
          "data": {
            "text/plain": [
              "dict_items([('assignment', (1, 2, 3, 4, 5)), ('launch_date', {28, 12, 14}), ('class_time', {'web_dev': 8, 'data science': 8, 'java': 7}), ('mentor', ['mr sir', 'pankaj', 'tumharachutkesejarahai', 'tarun'])])"
            ]
          },
          "metadata": {},
          "execution_count": 47
        }
      ]
    },
    {
      "cell_type": "code",
      "source": [
        "list(d6.items())"
      ],
      "metadata": {
        "colab": {
          "base_uri": "https://localhost:8080/"
        },
        "id": "BhPy77j8sprO",
        "outputId": "2de8b193-b41f-49ae-97de-7657d40c9fc5"
      },
      "execution_count": 48,
      "outputs": [
        {
          "output_type": "execute_result",
          "data": {
            "text/plain": [
              "[('assignment', (1, 2, 3, 4, 5)),\n",
              " ('launch_date', {12, 14, 28}),\n",
              " ('class_time', {'web_dev': 8, 'data science': 8, 'java': 7}),\n",
              " ('mentor', ['mr sir', 'pankaj', 'tumharachutkesejarahai', 'tarun'])]"
            ]
          },
          "metadata": {},
          "execution_count": 48
        }
      ]
    },
    {
      "cell_type": "code",
      "source": [
        "d6.pop('assignment')   #important to give argument"
      ],
      "metadata": {
        "colab": {
          "base_uri": "https://localhost:8080/"
        },
        "id": "UOh-9fjOssdd",
        "outputId": "a6d9bbdb-f238-45dc-cdaf-6d19efea6bf9"
      },
      "execution_count": 49,
      "outputs": [
        {
          "output_type": "execute_result",
          "data": {
            "text/plain": [
              "(1, 2, 3, 4, 5)"
            ]
          },
          "metadata": {},
          "execution_count": 49
        }
      ]
    },
    {
      "cell_type": "code",
      "source": [
        "marks=int(input('enter your marks'))\n",
        "if marks>80:\n",
        "  print('you are part of Ao batch')\n",
        "elif marks>60 and marks<80:\n",
        "  print('you are part of A1 batch')\n",
        "else:\n",
        "  print('you are part of A3 batch')"
      ],
      "metadata": {
        "id": "Wy1bTkW9trGF",
        "colab": {
          "base_uri": "https://localhost:8080/"
        },
        "outputId": "ba2c4a38-85b3-4690-b763-26875a51d3bd"
      },
      "execution_count": 51,
      "outputs": [
        {
          "output_type": "stream",
          "name": "stdout",
          "text": [
            "enter your marks33\n",
            "you are part of A3 batch\n"
          ]
        }
      ]
    },
    {
      "cell_type": "code",
      "source": [
        "I=[1,2,3,4,5,6,7,8,9]  #add 1 in every value of list"
      ],
      "metadata": {
        "id": "nl-5fpG06gSa"
      },
      "execution_count": 52,
      "outputs": []
    },
    {
      "cell_type": "code",
      "source": [
        "I1=[]\n",
        "for i in I:\n",
        "  print(i+1)\n",
        "  I1.append(i+1)\n",
        "  I1\n"
      ],
      "metadata": {
        "colab": {
          "base_uri": "https://localhost:8080/"
        },
        "id": "g2nigb3u9Vsn",
        "outputId": "081d2cfe-5225-4a0c-de19-73866b39724e"
      },
      "execution_count": 53,
      "outputs": [
        {
          "output_type": "stream",
          "name": "stdout",
          "text": [
            "2\n",
            "3\n",
            "4\n",
            "5\n",
            "6\n",
            "7\n",
            "8\n",
            "9\n",
            "10\n"
          ]
        }
      ]
    },
    {
      "cell_type": "code",
      "source": [
        "I1"
      ],
      "metadata": {
        "colab": {
          "base_uri": "https://localhost:8080/"
        },
        "id": "_wr3I8OR91T1",
        "outputId": "43445b0f-2677-4181-ce3f-c3bb594392ff"
      },
      "execution_count": 54,
      "outputs": [
        {
          "output_type": "execute_result",
          "data": {
            "text/plain": [
              "[2, 3, 4, 5, 6, 7, 8, 9, 10]"
            ]
          },
          "metadata": {},
          "execution_count": 54
        }
      ]
    },
    {
      "cell_type": "code",
      "source": [
        "p=['sudh,kumar','pwskills','course']  #we uppercase all value in list"
      ],
      "metadata": {
        "id": "pT6F4a-g-maj"
      },
      "execution_count": 55,
      "outputs": []
    },
    {
      "cell_type": "code",
      "source": [
        "p1=[]\n",
        "for i in p:\n",
        "  print(i)\n",
        "  p1.append(i.upper())\n",
        "  print(p1)"
      ],
      "metadata": {
        "colab": {
          "base_uri": "https://localhost:8080/"
        },
        "id": "QPubZwiS-40B",
        "outputId": "0ed495b0-e0ea-4b68-b22b-ffd100a3923c"
      },
      "execution_count": 56,
      "outputs": [
        {
          "output_type": "stream",
          "name": "stdout",
          "text": [
            "sudh,kumar\n",
            "['SUDH,KUMAR']\n",
            "pwskills\n",
            "['SUDH,KUMAR', 'PWSKILLS']\n",
            "course\n",
            "['SUDH,KUMAR', 'PWSKILLS', 'COURSE']\n"
          ]
        }
      ]
    },
    {
      "cell_type": "code",
      "source": [
        "II=[1,2,3,4,5,'mayur','teena',23.112,'qwe']  #make two differ list having num and str"
      ],
      "metadata": {
        "id": "Dfl6-ghs_VC2"
      },
      "execution_count": 58,
      "outputs": []
    },
    {
      "cell_type": "code",
      "source": [
        "I_str=[]\n",
        "I_num=[]\n",
        "for i in II:\n",
        "  if type(i)==int or type(i)==float:\n",
        "    I_num.append(i)\n",
        "  else:\n",
        "    I_str.append(i)\n",
        "\n",
        "\n"
      ],
      "metadata": {
        "id": "J2sdr5N7HYy_"
      },
      "execution_count": 71,
      "outputs": []
    },
    {
      "cell_type": "code",
      "source": [
        "I_num\n",
        "I_str"
      ],
      "metadata": {
        "colab": {
          "base_uri": "https://localhost:8080/"
        },
        "id": "_HphG9UDIOzd",
        "outputId": "648b1508-19cb-48a0-c57c-dae1553a75ce"
      },
      "execution_count": 73,
      "outputs": [
        {
          "output_type": "execute_result",
          "data": {
            "text/plain": [
              "['mayur', 'teena', 'qwe']"
            ]
          },
          "metadata": {},
          "execution_count": 73
        }
      ]
    },
    {
      "cell_type": "code",
      "source": [],
      "metadata": {
        "id": "8kGNCntGI5Qa"
      },
      "execution_count": null,
      "outputs": []
    }
  ]
}