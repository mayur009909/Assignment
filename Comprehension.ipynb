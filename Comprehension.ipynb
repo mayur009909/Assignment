{
  "nbformat": 4,
  "nbformat_minor": 0,
  "metadata": {
    "colab": {
      "provenance": []
    },
    "kernelspec": {
      "name": "python3",
      "display_name": "Python 3"
    },
    "language_info": {
      "name": "python"
    }
  },
  "cells": [
    {
      "cell_type": "markdown",
      "source": [
        "#Comprehension"
      ],
      "metadata": {
        "id": "qYmtImfd99qE"
      }
    },
    {
      "cell_type": "code",
      "execution_count": 1,
      "metadata": {
        "colab": {
          "base_uri": "https://localhost:8080/"
        },
        "id": "B8KcUkTm90gI",
        "outputId": "8c696acd-457a-4065-d29c-07ae1566abe8"
      },
      "outputs": [
        {
          "output_type": "execute_result",
          "data": {
            "text/plain": [
              "[1, 4, 9, 16, 484, 64]"
            ]
          },
          "metadata": {},
          "execution_count": 1
        }
      ],
      "source": [
        "ink=[1,2,3,4,22,8]    #this by for loop\n",
        "ii=[]\n",
        "for i in ink:\n",
        "  ii.append(i**2)\n",
        "\n",
        "ii\n"
      ]
    },
    {
      "cell_type": "code",
      "source": [
        "a=[1,3,5,6,8,]"
      ],
      "metadata": {
        "id": "04v9SzdZNXIJ"
      },
      "execution_count": 5,
      "outputs": []
    },
    {
      "cell_type": "code",
      "source": [
        "\n",
        "[i**2 for i in a]"
      ],
      "metadata": {
        "colab": {
          "base_uri": "https://localhost:8080/"
        },
        "id": "lMMubkX_Exv2",
        "outputId": "04dc3e13-8485-48c3-bff9-da6b8f9cca0a"
      },
      "execution_count": 6,
      "outputs": [
        {
          "output_type": "execute_result",
          "data": {
            "text/plain": [
              "[1, 9, 25, 36, 64]"
            ]
          },
          "metadata": {},
          "execution_count": 6
        }
      ]
    },
    {
      "cell_type": "code",
      "source": [
        "[i**2 for i in a if i%2==0]"
      ],
      "metadata": {
        "colab": {
          "base_uri": "https://localhost:8080/"
        },
        "id": "p8YsQSLmM-uW",
        "outputId": "7bd61723-9b98-4524-d696-5290450673cb"
      },
      "execution_count": 7,
      "outputs": [
        {
          "output_type": "execute_result",
          "data": {
            "text/plain": [
              "[36, 64]"
            ]
          },
          "metadata": {},
          "execution_count": 7
        }
      ]
    },
    {
      "cell_type": "code",
      "source": [
        "k=['mayur','raju','bheem','stem','cream']\n"
      ],
      "metadata": {
        "id": "DQ_EIJTMNqnJ"
      },
      "execution_count": 8,
      "outputs": []
    },
    {
      "cell_type": "code",
      "source": [
        "[i.upper() for i in k]"
      ],
      "metadata": {
        "colab": {
          "base_uri": "https://localhost:8080/"
        },
        "id": "xzywxZ8XY05_",
        "outputId": "31e01af1-25fa-415c-a6b2-5f30d8b39643"
      },
      "execution_count": 9,
      "outputs": [
        {
          "output_type": "execute_result",
          "data": {
            "text/plain": [
              "['MAYUR', 'RAJU', 'BHEEM', 'STEM', 'CREAM']"
            ]
          },
          "metadata": {},
          "execution_count": 9
        }
      ]
    },
    {
      "cell_type": "code",
      "source": [
        "q=(11,22,3,34)"
      ],
      "metadata": {
        "id": "r0rz2IQvZbcZ"
      },
      "execution_count": 12,
      "outputs": []
    },
    {
      "cell_type": "code",
      "source": [
        "(i**2 for i in q)    #also do in tuple"
      ],
      "metadata": {
        "colab": {
          "base_uri": "https://localhost:8080/"
        },
        "id": "dEEH7ynvY8F6",
        "outputId": "78757856-8ae4-476b-ee1a-8d3a9a6d0975"
      },
      "execution_count": 14,
      "outputs": [
        {
          "output_type": "stream",
          "name": "stdout",
          "text": [
            "<generator object <genexpr> at 0x7b2c54cc7920>\n"
          ]
        }
      ]
    },
    {
      "cell_type": "code",
      "source": [
        "list(i**2 for i in q)    #convert in list for print value"
      ],
      "metadata": {
        "colab": {
          "base_uri": "https://localhost:8080/"
        },
        "id": "WVCVAEMNZfEH",
        "outputId": "56fb700c-bfe5-4c00-b1dc-ee4053923a5d"
      },
      "execution_count": 15,
      "outputs": [
        {
          "output_type": "execute_result",
          "data": {
            "text/plain": [
              "[121, 484, 9, 1156]"
            ]
          },
          "metadata": {},
          "execution_count": 15
        }
      ]
    },
    {
      "cell_type": "markdown",
      "source": [
        "Dictionary comprehension"
      ],
      "metadata": {
        "id": "RzvM7JZ2Z-xF"
      }
    },
    {
      "cell_type": "code",
      "source": [
        "d={'key1':1,'key2':2,'key3':3}"
      ],
      "metadata": {
        "id": "hRU1RooAZ7Tf"
      },
      "execution_count": 16,
      "outputs": []
    },
    {
      "cell_type": "code",
      "source": [
        "{k:v**2 for k ,v in d.items()}   # ase k=key and v=value ko compiler map krlega"
      ],
      "metadata": {
        "colab": {
          "base_uri": "https://localhost:8080/"
        },
        "id": "VQ_b_lqbatTa",
        "outputId": "98868f11-9c76-404b-f697-d53fe425657b"
      },
      "execution_count": 17,
      "outputs": [
        {
          "output_type": "execute_result",
          "data": {
            "text/plain": [
              "{'key1': 1, 'key2': 4, 'key3': 9}"
            ]
          },
          "metadata": {},
          "execution_count": 17
        }
      ]
    },
    {
      "cell_type": "code",
      "source": [
        "{k:v for k ,v in d.items() if v>1 }"
      ],
      "metadata": {
        "colab": {
          "base_uri": "https://localhost:8080/"
        },
        "id": "GJN1EBoea9sN",
        "outputId": "b297423a-dad1-4306-a9d7-4ff8578afc9c"
      },
      "execution_count": 19,
      "outputs": [
        {
          "output_type": "execute_result",
          "data": {
            "text/plain": [
              "{'key2': 2, 'key3': 3}"
            ]
          },
          "metadata": {},
          "execution_count": 19
        }
      ]
    },
    {
      "cell_type": "code",
      "source": [],
      "metadata": {
        "id": "Mf5RkjYDbGzJ"
      },
      "execution_count": null,
      "outputs": []
    }
  ]
}