{
  "nbformat": 4,
  "nbformat_minor": 0,
  "metadata": {
    "colab": {
      "provenance": []
    },
    "kernelspec": {
      "name": "python3",
      "display_name": "Python 3"
    },
    "language_info": {
      "name": "python"
    }
  },
  "cells": [
    {
      "cell_type": "markdown",
      "source": [
        "#For Loops"
      ],
      "metadata": {
        "id": "8kCYNHMKPtr4"
      }
    },
    {
      "cell_type": "code",
      "execution_count": 2,
      "metadata": {
        "id": "EGl8MrVjPqY9"
      },
      "outputs": [],
      "source": [
        "I=[1,2,3,45,6]"
      ]
    },
    {
      "cell_type": "code",
      "source": [
        "for i in I:\n",
        "  print(i ,type(i))"
      ],
      "metadata": {
        "colab": {
          "base_uri": "https://localhost:8080/"
        },
        "id": "icv-gaZqQE8d",
        "outputId": "1882a5d7-820a-4f5e-eac1-eb3c268caad8"
      },
      "execution_count": 3,
      "outputs": [
        {
          "output_type": "stream",
          "name": "stdout",
          "text": [
            "1 <class 'int'>\n",
            "2 <class 'int'>\n",
            "3 <class 'int'>\n",
            "45 <class 'int'>\n",
            "6 <class 'int'>\n"
          ]
        }
      ]
    },
    {
      "cell_type": "code",
      "source": [
        "l1=['mayur','devansh','satyam']"
      ],
      "metadata": {
        "id": "mzUNZGt0QN8U"
      },
      "execution_count": 4,
      "outputs": []
    },
    {
      "cell_type": "code",
      "source": [
        "l2=[]\n",
        "for i in l1:\n",
        "  l2.append(i.upper())\n",
        "print(l2)\n"
      ],
      "metadata": {
        "colab": {
          "base_uri": "https://localhost:8080/"
        },
        "id": "yrUZOp8uQVr2",
        "outputId": "6be0c641-b1a0-439d-84e1-aeb61631190f"
      },
      "execution_count": 5,
      "outputs": [
        {
          "output_type": "stream",
          "name": "stdout",
          "text": [
            "['MAYUR', 'DEVANSH', 'SATYAM']\n"
          ]
        }
      ]
    },
    {
      "cell_type": "code",
      "source": [
        "for i in l1:\n",
        "  print(i)\n",
        "else:\n",
        "  print('if for loop is able to complete itself then only else will execute')"
      ],
      "metadata": {
        "colab": {
          "base_uri": "https://localhost:8080/"
        },
        "id": "me0sDobtQeU-",
        "outputId": "1a5259cd-651e-4f8e-e9cf-7825333404da"
      },
      "execution_count": 6,
      "outputs": [
        {
          "output_type": "stream",
          "name": "stdout",
          "text": [
            "mayur\n",
            "devansh\n",
            "satyam\n",
            "if for loop is able to complete itself then only else will execute\n"
          ]
        }
      ]
    },
    {
      "cell_type": "code",
      "source": [
        "for i in l1:\n",
        "  if i=='devansh':\n",
        "    break\n",
        "  print(i)"
      ],
      "metadata": {
        "colab": {
          "base_uri": "https://localhost:8080/"
        },
        "id": "sBZcqq5bRUay",
        "outputId": "2fddacd7-b1a0-4a22-c296-519535292cf0"
      },
      "execution_count": 7,
      "outputs": [
        {
          "output_type": "stream",
          "name": "stdout",
          "text": [
            "mayur\n"
          ]
        }
      ]
    },
    {
      "cell_type": "code",
      "source": [
        "for i in l1:\n",
        "  if i=='devansh':\n",
        "    break\n",
        "  print(i)\n",
        "else:\n",
        "  print('execute this if for loop is able to complete itself')\n"
      ],
      "metadata": {
        "colab": {
          "base_uri": "https://localhost:8080/"
        },
        "id": "C2ltIIxlRuLb",
        "outputId": "5505ace0-cd86-4ea9-faf9-60ca97163e06"
      },
      "execution_count": 8,
      "outputs": [
        {
          "output_type": "stream",
          "name": "stdout",
          "text": [
            "mayur\n"
          ]
        }
      ]
    },
    {
      "cell_type": "code",
      "source": [
        "for i in l1:\n",
        "  if i=='devansh':\n",
        "    continue\n",
        "  print(i)"
      ],
      "metadata": {
        "colab": {
          "base_uri": "https://localhost:8080/"
        },
        "id": "OBKq0nr1W2Vh",
        "outputId": "507d3fac-af1c-4005-a66e-d5e6c65e6fda"
      },
      "execution_count": 9,
      "outputs": [
        {
          "output_type": "stream",
          "name": "stdout",
          "text": [
            "mayur\n",
            "satyam\n"
          ]
        }
      ]
    },
    {
      "cell_type": "markdown",
      "source": [
        "in continue else statement print"
      ],
      "metadata": {
        "id": "GkhzufYiXeJD"
      }
    },
    {
      "cell_type": "code",
      "source": [
        "for i in l1:\n",
        "  if i=='devansh':\n",
        "    continue\n",
        "  print(i)\n",
        "else:\n",
        "  print('execute this if for loop is able to complete itself')\n"
      ],
      "metadata": {
        "colab": {
          "base_uri": "https://localhost:8080/"
        },
        "id": "r5KBBaKSXGYN",
        "outputId": "b941de89-8f3c-433e-8af1-c3bd4404c595"
      },
      "execution_count": 10,
      "outputs": [
        {
          "output_type": "stream",
          "name": "stdout",
          "text": [
            "mayur\n",
            "satyam\n",
            "execute this if for loop is able to complete itself\n"
          ]
        }
      ]
    },
    {
      "cell_type": "code",
      "source": [
        "range(5)"
      ],
      "metadata": {
        "colab": {
          "base_uri": "https://localhost:8080/"
        },
        "id": "raFhgEuzXbY4",
        "outputId": "30b008c0-afbe-4edc-86d4-4c35652e7386"
      },
      "execution_count": 11,
      "outputs": [
        {
          "output_type": "execute_result",
          "data": {
            "text/plain": [
              "range(0, 5)"
            ]
          },
          "metadata": {},
          "execution_count": 11
        }
      ]
    },
    {
      "cell_type": "code",
      "source": [
        "list(range(5))"
      ],
      "metadata": {
        "colab": {
          "base_uri": "https://localhost:8080/"
        },
        "id": "ncQHF0mYXmnl",
        "outputId": "deb66c8d-8dbf-4dd3-a9d5-3288c72f93e5"
      },
      "execution_count": 12,
      "outputs": [
        {
          "output_type": "execute_result",
          "data": {
            "text/plain": [
              "[0, 1, 2, 3, 4]"
            ]
          },
          "metadata": {},
          "execution_count": 12
        }
      ]
    },
    {
      "cell_type": "code",
      "source": [
        "list(range(0,5,2))"
      ],
      "metadata": {
        "colab": {
          "base_uri": "https://localhost:8080/"
        },
        "id": "GV_38pM6XrP-",
        "outputId": "b997cdfc-3553-4617-a2c5-87fcb7280728"
      },
      "execution_count": 13,
      "outputs": [
        {
          "output_type": "execute_result",
          "data": {
            "text/plain": [
              "[0, 2, 4]"
            ]
          },
          "metadata": {},
          "execution_count": 13
        }
      ]
    },
    {
      "cell_type": "code",
      "source": [
        "list(range(-10,0))"
      ],
      "metadata": {
        "colab": {
          "base_uri": "https://localhost:8080/"
        },
        "id": "EIap3hcoXvTf",
        "outputId": "90a18f44-535d-4200-f86d-6f62a7acde2e"
      },
      "execution_count": 14,
      "outputs": [
        {
          "output_type": "execute_result",
          "data": {
            "text/plain": [
              "[-10, -9, -8, -7, -6, -5, -4, -3, -2, -1]"
            ]
          },
          "metadata": {},
          "execution_count": 14
        }
      ]
    },
    {
      "cell_type": "code",
      "source": [
        "l1"
      ],
      "metadata": {
        "colab": {
          "base_uri": "https://localhost:8080/"
        },
        "id": "KJWXVu_6X7cA",
        "outputId": "7a9e0d4a-e3b8-47fc-8b32-d8ff85c9e71c"
      },
      "execution_count": 15,
      "outputs": [
        {
          "output_type": "execute_result",
          "data": {
            "text/plain": [
              "['mayur', 'devansh', 'satyam']"
            ]
          },
          "metadata": {},
          "execution_count": 15
        }
      ]
    },
    {
      "cell_type": "code",
      "source": [
        "list(range(len(l1)))"
      ],
      "metadata": {
        "colab": {
          "base_uri": "https://localhost:8080/"
        },
        "id": "MkrAym4uYuvR",
        "outputId": "e8526443-c9e1-4368-fe2e-df39aa483bac"
      },
      "execution_count": 16,
      "outputs": [
        {
          "output_type": "execute_result",
          "data": {
            "text/plain": [
              "[0, 1, 2]"
            ]
          },
          "metadata": {},
          "execution_count": 16
        }
      ]
    },
    {
      "cell_type": "code",
      "source": [
        "for i in range(len(l1)):\n",
        "  print(l1[i])"
      ],
      "metadata": {
        "colab": {
          "base_uri": "https://localhost:8080/"
        },
        "id": "dtnhw_jDYDbk",
        "outputId": "d9280dd8-6fd7-440c-fa15-4644a10a4d48"
      },
      "execution_count": 17,
      "outputs": [
        {
          "output_type": "stream",
          "name": "stdout",
          "text": [
            "mayur\n",
            "devansh\n",
            "satyam\n"
          ]
        }
      ]
    },
    {
      "cell_type": "code",
      "source": [
        "len(l1)"
      ],
      "metadata": {
        "colab": {
          "base_uri": "https://localhost:8080/"
        },
        "id": "quxUUKqOYrHy",
        "outputId": "42192cc9-30ee-4ecc-d696-fd8a9860b6ad"
      },
      "execution_count": 18,
      "outputs": [
        {
          "output_type": "execute_result",
          "data": {
            "text/plain": [
              "3"
            ]
          },
          "metadata": {},
          "execution_count": 18
        }
      ]
    },
    {
      "cell_type": "code",
      "source": [
        "list(range(len(l1)-1,-1,-1))   # HERE LEN REPRESENT LAST INDEX NUM"
      ],
      "metadata": {
        "colab": {
          "base_uri": "https://localhost:8080/"
        },
        "id": "TsXOfUqnY29I",
        "outputId": "5c52b39b-0464-4a69-d68d-374d1916c298"
      },
      "execution_count": 19,
      "outputs": [
        {
          "output_type": "execute_result",
          "data": {
            "text/plain": [
              "[2, 1, 0]"
            ]
          },
          "metadata": {},
          "execution_count": 19
        }
      ]
    },
    {
      "cell_type": "code",
      "source": [
        "for i in range(len(l1)-1,-1,-1):\n",
        "  print(l1[i])\n"
      ],
      "metadata": {
        "colab": {
          "base_uri": "https://localhost:8080/"
        },
        "id": "q5njQYKnY_fB",
        "outputId": "bce3d5c2-a192-4e9f-c440-e50cc3fced6c"
      },
      "execution_count": 20,
      "outputs": [
        {
          "output_type": "stream",
          "name": "stdout",
          "text": [
            "satyam\n",
            "devansh\n",
            "mayur\n"
          ]
        }
      ]
    },
    {
      "cell_type": "code",
      "source": [
        "l2=[1,22,33,44,55,66,76,554,2345,543,45,6,7,8,9,8,6,5,] #print data which are at even index number"
      ],
      "metadata": {
        "id": "uVKs51MIZUiO"
      },
      "execution_count": 21,
      "outputs": []
    },
    {
      "cell_type": "code",
      "source": [
        "list(range(0,len(l2),2))"
      ],
      "metadata": {
        "colab": {
          "base_uri": "https://localhost:8080/"
        },
        "id": "Y-UnaRKDahLD",
        "outputId": "a4a34864-4be2-46ce-b40c-e992577e5949"
      },
      "execution_count": 22,
      "outputs": [
        {
          "output_type": "execute_result",
          "data": {
            "text/plain": [
              "[0, 2, 4, 6, 8, 10, 12, 14, 16]"
            ]
          },
          "metadata": {},
          "execution_count": 22
        }
      ]
    },
    {
      "cell_type": "code",
      "source": [
        "for i in range(0,len(l2),2):\n",
        "  print(l2[i])"
      ],
      "metadata": {
        "colab": {
          "base_uri": "https://localhost:8080/"
        },
        "id": "jJvlIzFJayD4",
        "outputId": "5e4bf61f-6dbf-4982-dbde-7a2d265e39a4"
      },
      "execution_count": 23,
      "outputs": [
        {
          "output_type": "stream",
          "name": "stdout",
          "text": [
            "1\n",
            "33\n",
            "55\n",
            "76\n",
            "2345\n",
            "45\n",
            "7\n",
            "9\n",
            "6\n"
          ]
        }
      ]
    },
    {
      "cell_type": "code",
      "source": [
        "k=[1,2,3,11,22,33,456]\n"
      ],
      "metadata": {
        "id": "80MGbpXLbUeU"
      },
      "execution_count": 24,
      "outputs": []
    },
    {
      "cell_type": "code",
      "source": [
        "sum=0\n",
        "for i in k:\n",
        "  sum=sum+i\n",
        "print(sum)\n",
        "#"
      ],
      "metadata": {
        "colab": {
          "base_uri": "https://localhost:8080/"
        },
        "id": "zxsDDsFAbYvI",
        "outputId": "a9bdb1bc-9001-4445-dc85-0ecd92c6e8b9"
      },
      "execution_count": 25,
      "outputs": [
        {
          "output_type": "stream",
          "name": "stdout",
          "text": [
            "528\n"
          ]
        }
      ]
    },
    {
      "cell_type": "code",
      "source": [
        "d={'name':'sudh','class':'data science masters'\n",
        "   ,'topic':['python','stats','machine learning','DL','CV','NLP','resume','interview']}"
      ],
      "metadata": {
        "id": "P-pGsPoabd1M"
      },
      "execution_count": 26,
      "outputs": []
    },
    {
      "cell_type": "code",
      "source": [
        "d"
      ],
      "metadata": {
        "colab": {
          "base_uri": "https://localhost:8080/"
        },
        "id": "BetSQq8bcsVx",
        "outputId": "71cfdeb8-0464-4216-ab53-4225f1a72f8b"
      },
      "execution_count": 27,
      "outputs": [
        {
          "output_type": "execute_result",
          "data": {
            "text/plain": [
              "{'name': 'sudh',\n",
              " 'class': 'data science masters',\n",
              " 'topic': ['python',\n",
              "  'stats',\n",
              "  'machine learning',\n",
              "  'DL',\n",
              "  'CV',\n",
              "  'NLP',\n",
              "  'resume',\n",
              "  'interview']}"
            ]
          },
          "metadata": {},
          "execution_count": 27
        }
      ]
    },
    {
      "cell_type": "code",
      "source": [
        "d.keys()"
      ],
      "metadata": {
        "colab": {
          "base_uri": "https://localhost:8080/"
        },
        "id": "21MA_8iUcuZL",
        "outputId": "b676584b-aab5-4c8f-b804-6df4060833a1"
      },
      "execution_count": 28,
      "outputs": [
        {
          "output_type": "execute_result",
          "data": {
            "text/plain": [
              "dict_keys(['name', 'class', 'topic'])"
            ]
          },
          "metadata": {},
          "execution_count": 28
        }
      ]
    },
    {
      "cell_type": "code",
      "source": [
        "for i in d.keys():\n",
        "  print(d[i])"
      ],
      "metadata": {
        "colab": {
          "base_uri": "https://localhost:8080/"
        },
        "id": "p166lew5cyJe",
        "outputId": "5347099a-db7b-489b-cf57-aa1ce3f99e2b"
      },
      "execution_count": 29,
      "outputs": [
        {
          "output_type": "stream",
          "name": "stdout",
          "text": [
            "sudh\n",
            "data science masters\n",
            "['python', 'stats', 'machine learning', 'DL', 'CV', 'NLP', 'resume', 'interview']\n"
          ]
        }
      ]
    },
    {
      "cell_type": "code",
      "source": [
        "for i in d.items():\n",
        "  print(i)"
      ],
      "metadata": {
        "colab": {
          "base_uri": "https://localhost:8080/"
        },
        "id": "tGAFfxMZdBF2",
        "outputId": "a6e0b258-5ff0-4d84-b6c3-63ae7a683e46"
      },
      "execution_count": 30,
      "outputs": [
        {
          "output_type": "stream",
          "name": "stdout",
          "text": [
            "('name', 'sudh')\n",
            "('class', 'data science masters')\n",
            "('topic', ['python', 'stats', 'machine learning', 'DL', 'CV', 'NLP', 'resume', 'interview'])\n"
          ]
        }
      ]
    },
    {
      "cell_type": "markdown",
      "source": [
        "#While loop\n",
        " first check condition then go inside loop"
      ],
      "metadata": {
        "id": "A6fu9NdjdZmq"
      }
    },
    {
      "cell_type": "code",
      "source": [
        "a=1\n",
        "while a<=10:\n",
        "  print(a)\n",
        "  a=a+1"
      ],
      "metadata": {
        "id": "Gl4M9aTmdP6j",
        "colab": {
          "base_uri": "https://localhost:8080/"
        },
        "outputId": "272aa2ba-23c0-4223-f1c0-6e70dcd61a2b"
      },
      "execution_count": 31,
      "outputs": [
        {
          "output_type": "stream",
          "name": "stdout",
          "text": [
            "1\n",
            "2\n",
            "3\n",
            "4\n",
            "5\n",
            "6\n",
            "7\n",
            "8\n",
            "9\n",
            "10\n"
          ]
        }
      ]
    },
    {
      "cell_type": "code",
      "source": [
        "sum=0\n",
        "m=0\n",
        "while m<=11:\n",
        "  m=m+1\n",
        "  sum=sum+m\n",
        "print(sum)"
      ],
      "metadata": {
        "colab": {
          "base_uri": "https://localhost:8080/"
        },
        "id": "xTLhgmDqOOJc",
        "outputId": "caf61a36-03f5-48c7-f6e1-29334b2e6f04"
      },
      "execution_count": 32,
      "outputs": [
        {
          "output_type": "stream",
          "name": "stdout",
          "text": [
            "78\n"
          ]
        }
      ]
    },
    {
      "cell_type": "code",
      "source": [
        "sum = 0\n",
        "m = int(input(\"Enter a number: \"))\n",
        "i = 0\n",
        "\n",
        "while i < m:\n",
        "    i = i + 1\n",
        "    sum = sum + i\n",
        "\n",
        "print(sum)\n"
      ],
      "metadata": {
        "colab": {
          "base_uri": "https://localhost:8080/"
        },
        "id": "mSLnZEDPOjHy",
        "outputId": "b79631b6-05c3-4fb7-c927-d0945a4ea04a"
      },
      "execution_count": 33,
      "outputs": [
        {
          "output_type": "stream",
          "name": "stdout",
          "text": [
            "Enter a number: 4\n",
            "10\n"
          ]
        }
      ]
    },
    {
      "cell_type": "code",
      "source": [
        "n=int(input('enter a num'))\n",
        "fact=1\n",
        "while n>0:\n",
        "  fact=fact*n\n",
        "  n=n-1\n",
        "fact\n"
      ],
      "metadata": {
        "colab": {
          "base_uri": "https://localhost:8080/"
        },
        "id": "Fxq2NlhqPj4U",
        "outputId": "fc01dd35-2288-4422-c0da-cee5855a0df8"
      },
      "execution_count": 34,
      "outputs": [
        {
          "name": "stdout",
          "output_type": "stream",
          "text": [
            "enter a num4\n"
          ]
        },
        {
          "output_type": "execute_result",
          "data": {
            "text/plain": [
              "24"
            ]
          },
          "metadata": {},
          "execution_count": 34
        }
      ]
    },
    {
      "cell_type": "code",
      "source": [
        "n=int(input('enter a num'))\n",
        "a,b=0,1\n",
        "fibo=1\n",
        "while fibo<n:\n",
        "  c=a+b\n",
        "  a=b\n",
        "  b=c\n",
        "  fibo=fibo+1\n",
        "  print(c)"
      ],
      "metadata": {
        "colab": {
          "base_uri": "https://localhost:8080/"
        },
        "id": "zLPSsJRkQOeX",
        "outputId": "10bf0a70-0718-48ad-aa7b-1ba16a9227d9"
      },
      "execution_count": 35,
      "outputs": [
        {
          "output_type": "stream",
          "name": "stdout",
          "text": [
            "enter a num4\n",
            "1\n",
            "2\n",
            "3\n"
          ]
        }
      ]
    },
    {
      "cell_type": "code",
      "source": [
        "a,b=0,1                 #by for loop\n",
        "for i in range(10):\n",
        "  c=a+b\n",
        "  a=b\n",
        "  b=c\n",
        "  print(c)\n"
      ],
      "metadata": {
        "colab": {
          "base_uri": "https://localhost:8080/"
        },
        "id": "kqOhlKWkRJSz",
        "outputId": "0e0e35df-b211-465f-bbb1-710e07bc7199"
      },
      "execution_count": 36,
      "outputs": [
        {
          "output_type": "stream",
          "name": "stdout",
          "text": [
            "1\n",
            "2\n",
            "3\n",
            "5\n",
            "8\n",
            "13\n",
            "21\n",
            "34\n",
            "55\n",
            "89\n"
          ]
        }
      ]
    },
    {
      "cell_type": "code",
      "source": [
        "s='sudh'\n",
        "s[::-1]\n"
      ],
      "metadata": {
        "colab": {
          "base_uri": "https://localhost:8080/",
          "height": 36
        },
        "id": "Yp8pbUVnWCdu",
        "outputId": "da802560-f4e9-4e7e-deb0-3d6f72c079f5"
      },
      "execution_count": 37,
      "outputs": [
        {
          "output_type": "execute_result",
          "data": {
            "text/plain": [
              "'hdus'"
            ],
            "application/vnd.google.colaboratory.intrinsic+json": {
              "type": "string"
            }
          },
          "metadata": {},
          "execution_count": 37
        }
      ]
    },
    {
      "cell_type": "code",
      "source": [
        "word=input('enter a str for reversal')"
      ],
      "metadata": {
        "colab": {
          "base_uri": "https://localhost:8080/"
        },
        "id": "y6Hy-meJWRjc",
        "outputId": "0e849c62-ca23-4f47-dcc6-5eb8cc3769a1"
      },
      "execution_count": 38,
      "outputs": [
        {
          "name": "stdout",
          "output_type": "stream",
          "text": [
            "enter a str for reversalWEWE\n"
          ]
        }
      ]
    },
    {
      "cell_type": "code",
      "source": [
        "reverse=\"\"\n",
        "length=len(word)\n",
        "while length>0:\n",
        "  reverse=reverse+word[length-1]\n",
        "  length=length-1\n",
        "print(reverse)\n",
        "\n"
      ],
      "metadata": {
        "colab": {
          "base_uri": "https://localhost:8080/"
        },
        "id": "tzkj4JudWfPm",
        "outputId": "3219b330-ce9a-402e-e2c8-04ba2e375a03"
      },
      "execution_count": 40,
      "outputs": [
        {
          "output_type": "stream",
          "name": "stdout",
          "text": [
            "EWEW\n"
          ]
        }
      ]
    },
    {
      "cell_type": "code",
      "source": [
        "n=int(input('enter '))\n",
        "i=1\n",
        "while i<11:\n",
        "  print(n,'*',i,'=',n*i)\n",
        "  i=i+1"
      ],
      "metadata": {
        "colab": {
          "base_uri": "https://localhost:8080/"
        },
        "id": "4cIrpdmc3hS4",
        "outputId": "d6547171-98f9-46ff-d0a2-278b2f228d1f"
      },
      "execution_count": 43,
      "outputs": [
        {
          "output_type": "stream",
          "name": "stdout",
          "text": [
            "enter 9\n",
            "9 * 1 = 9\n",
            "9 * 2 = 18\n",
            "9 * 3 = 27\n",
            "9 * 4 = 36\n",
            "9 * 5 = 45\n",
            "9 * 6 = 54\n",
            "9 * 7 = 63\n",
            "9 * 8 = 72\n",
            "9 * 9 = 81\n",
            "9 * 10 = 90\n"
          ]
        }
      ]
    },
    {
      "cell_type": "code",
      "source": [],
      "metadata": {
        "id": "Z_tCDQrS4P49"
      },
      "execution_count": null,
      "outputs": []
    }
  ]
}